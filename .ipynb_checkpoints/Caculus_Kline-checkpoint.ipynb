{
 "cells": [
  {
   "cell_type": "markdown",
   "metadata": {},
   "source": [
    "# CALCULUS \n",
    "## An Intuitive and Physical Approach\n",
    "## By Morris Kline\n",
    "<hr>\n",
    "<p>Notes will be in markdown cells with math notation</p>\n",
    "<p>Exercises will be written in Python code cells</p>"
   ]
  },
  {
   "cell_type": "code",
   "execution_count": 24,
   "metadata": {
    "collapsed": true
   },
   "outputs": [],
   "source": [
    "# We are probably going to need this\n",
    "import math"
   ]
  },
  {
   "cell_type": "markdown",
   "metadata": {},
   "source": [
    "### Chapter 2 - The Derivative\n",
    "##### 2.1 The Function\n",
    "<p>Here we are laying the groundwork by defining the precise mathematical definitions for commonly used terms like \"formula\".  As I am familiar with most of this I will be taking few notes here.</p>\n",
    "\n",
    "<p>Relation of Distance traveled to time for a falling object</p>\n",
    "<p style=\"text-align:center;\">$  s=16*t^2 $ therefore $ t = \\pm \\sqrt{\\frac{s}{16}}    $</p>"
   ]
  },
  {
   "cell_type": "markdown",
   "metadata": {},
   "source": [
    "##### Exercises 2.1 - 1 Writing Formulas\n",
    "1. $ A = (1+i)^n $  in this formula, i is the independent variabe and A is the dependent\n",
    "2. Solve $ v=32t $ for t.  -> $ t=\\frac{v}{32} $ This function is single valued.\n",
    "3. Solve $ y = 5.3*x^2 $ for x.  -> $ x = \\sqrt {\\frac{y}{5.3} } $.  This function is not single valued.\n",
    "4. Write the formula for:   \n",
    "  a) the area of a circle in terms of radius $ A = \\pi*r^2 $  \n",
    "  b) the area of a circle in terms of diameter $ A = \\pi*2*d $\n",
    "  \n",
    "5. Write the formula for the radius of a circle in terms of area.  Is the function single valued?  If not, which formulation would be more useful?  \n",
    "  $ r = \\sqrt{ \\frac {A}{\\pi} } $.  This function is not single valued but as the radius of a circle is always positive I think the postive formulation would be more useful.\n",
    "6. One arm of a right triangle is 3 units and the hypotenuese ise x units.  Write a formula for the length of the other arm.  \n",
    "  We start with the Pythagorean theorem $ a^2 + b^2 = c^2 $  \n",
    "  Substituting our known values we get $ 9 + b^2 = x^2 $.  We then transform this to get $ b = \\sqrt {(x^2 - 9)} $.  \n",
    "7. Automobile travels at 30 mph.  Write formula for distance (d) in terms of time (t) in terms of seconds.  \n",
    "  $ d = \\frac{1}{120} * t $\n",
    "8.  Rectangle must have area of 4 sqft but dimensions can vary.  If one side is of length x express perimeter p as a function of x.  \n",
    "  $ P = 2*(l+w) $  \n",
    "  $ A = w*l $ Therefore if l = x, w = 4/x and so  \n",
    "  $ P = 2* (\\frac{4}{x} + x) $"
   ]
  },
  {
   "cell_type": "code",
   "execution_count": 39,
   "metadata": {
    "collapsed": false
   },
   "outputs": [
    {
     "name": "stdout",
     "output_type": "stream",
     "text": [
      "Solution to problem 1, page 10: f(0) = 0 | f(2) = -14 | f(-1) = 10 | f(9) = 0 \n",
      "Solution to problem 2, page 10: f(0) = 0 | f(2) = -14 | f(9) = 0 | f(-9) = 162 \n",
      "Solution to problem 5, page 10: f(0.00)=-1.29 | f(2.00)=-0.45 | f(-2.00)=-0.45 | f(2.65)=-0.14 \n",
      "Solution to problem 7, page 10: f(0.00) = 0.00 | f(0.79) = 1.00 | f(-0.79) = -1.00 \n",
      "Solution to problem 8, page 10: f(x) * g(x) = -135 for x = -2\n",
      "Solution to problem 9, page 10: f(3) = -26.0 | f(-1) = -2.0 \n",
      "Solution to problem 10, page 10: f(0) = 8.0 | f(4) = 6.0 \n"
     ]
    }
   ],
   "source": [
    "# Exercises Ch2.1 - 2 Solving formulas\n",
    "\n",
    "# 1. If f(x) = x^2 -9x, solve f(0), f(2), f(-1), f(9) ... let's use Python to make this easier.\n",
    "def func1(xs):\n",
    "    resp = \"Solution to problem 1, page 10: \"\n",
    "    for x in xs:\n",
    "        my_ans = x**2 - 9*x\n",
    "        resp  += \"f({0}) = {1} | \".format(x,my_ans)\n",
    "    return resp[:-2]\n",
    "print(func1([0,2,-1,9]))\n",
    "\n",
    "# 2. If f(x) =n -x^2 -9x, calculate f(0),f(-2), f(9), f(-9). Similar approach.\n",
    "def func2(xs):\n",
    "    resp = \"Solution to problem 2, page 10: \"\n",
    "    for x in xs:\n",
    "        ans = (-1*x)**2 - 9*x\n",
    "        resp += \"f({0}) = {1} | \".format(x,ans)\n",
    "    return resp[:-2]\n",
    "print(func2([0,2,9,-9]))\n",
    "\n",
    "# Skipping exercises 3 and 4 as they are equation manipulation and not solving equations.\n",
    "# 5. Solve f(x) = (x^2-9)/(-x^2+7) for 0,2,-2, sqrt(7), this one will work with arrays\n",
    "def func3(x):\n",
    "    resp =\"Solution to problem 5, page 10: \"\n",
    "    for val in x:\n",
    "        ans = (val**2 - 9)/((-1*val)**2 + 7)\n",
    "        resp += \"f({0:.2f})={1:.2f} | \".format(val,ans)\n",
    "    return resp[:-2]\n",
    "vals = [0,2,-2, 7**.5]\n",
    "print(func3(vals))\n",
    "\n",
    "# Skipping other notational exercises to focus on writing simple math code.\n",
    "# 7. f(x) = tan (x), solve for 0,pi/4, -pi/4\n",
    "def func4(vals):\n",
    "    resp=\"Solution to problem 7, page 10: \"\n",
    "    for val in vals:\n",
    "        ans = math.tan(val)\n",
    "        resp += \"f({0:.2f}) = {1:.2f} | \".format(val,ans)\n",
    "    return resp[:-2]\n",
    "v=[0,math.pi/4,-1*math.pi/4]\n",
    "print(func4(v))\n",
    "# I8.  f f(x) = x^2 + 5 and g(x) = x^3 - 7; solve f(x) * g(x) when x = -2\n",
    "def ftimesg(x):\n",
    "    # Describing our f(x) function\n",
    "    f = x**2 + 5\n",
    "    # Describing our g(x) function\n",
    "    g = x**3 - 7\n",
    "    return \"Solution to problem 8, page 10: f(x) * g(x) = {0} for x = {1}\".format(f*g, x)\n",
    "print(ftimesg(-2))\n",
    "# 9. If f(x) = (3/x) - x^3 solve for 3, -1, 1/x <- skipping this one as it's notation based.\n",
    "def func5(xs):\n",
    "    resp = \"Solution to problem 9, page 10: \"\n",
    "    for x in xs:\n",
    "        ans = (3/x) - x**3\n",
    "        resp += \"f({0}) = {1} | \".format(x,ans)\n",
    "    return resp[:-2]\n",
    "print(func5([3,-1]))\n",
    "        \n",
    "#10. If f(x) = (x^2+32)/(x+4), solve for 0, 4, g^2 <- skipping notation\n",
    "def func6(xs):\n",
    "    resp = \"Solution to problem 10, page 10: \"\n",
    "    for x in xs:\n",
    "        ans = (x**2+32)/ (x+4)\n",
    "        resp += \"f({0}) = {1} | \".format(x,ans)\n",
    "    return resp[:-2]\n",
    "print(func6([0,4]))"
   ]
  },
  {
   "cell_type": "code",
   "execution_count": 33,
   "metadata": {
    "collapsed": false
   },
   "outputs": [
    {
     "data": {
      "text/plain": [
       "25"
      ]
     },
     "execution_count": 33,
     "metadata": {},
     "output_type": "execute_result"
    }
   ],
   "source": []
  },
  {
   "cell_type": "code",
   "execution_count": null,
   "metadata": {
    "collapsed": true
   },
   "outputs": [],
   "source": []
  }
 ],
 "metadata": {
  "kernelspec": {
   "display_name": "Python 3",
   "language": "python",
   "name": "python3"
  },
  "language_info": {
   "codemirror_mode": {
    "name": "ipython",
    "version": 3
   },
   "file_extension": ".py",
   "mimetype": "text/x-python",
   "name": "python",
   "nbconvert_exporter": "python",
   "pygments_lexer": "ipython3",
   "version": "3.6.0"
  }
 },
 "nbformat": 4,
 "nbformat_minor": 2
}
