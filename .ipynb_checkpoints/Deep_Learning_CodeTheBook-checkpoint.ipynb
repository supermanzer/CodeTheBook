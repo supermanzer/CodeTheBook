{
 "cells": [
  {
   "cell_type": "markdown",
   "metadata": {},
   "source": [
    "# Neural Networks and Deep Learning (<a href=\"http://neuralnetworksanddeeplearning.com/chap1.html\">link</a>)\n",
    "\n",
    "## This is my first attempt at a Code The Book Approach\n",
    "\n",
    "### My idea for a code the book approach is to tackle a book on a subject I want to learn more about and apply to my own programming.  In order to better internalize the knowledge therein, I attempt to write Python code that will mirror the solutions presented.  Hopefully I can figure this stuff out."
   ]
  },
  {
   "cell_type": "markdown",
   "metadata": {},
   "source": [
    "\n",
    "The book in question will be leading the reader through the basic MNIST problem set that was worked through in the Tensorflow Tutorials but with greater depth of understand of the components.\n",
    "\n",
    "<h3>Perceptron:</h3> a simple artificial neuron that takes binary inputs, applies weights, and returns a single binary output.  The weighted value must be greater than a threshold or activation level to return a 1.  Re-written, the inverse of the threshold is written as the bias which makes the notation and other aspects easier to write.\n",
    "<h4> Basic Perceptron Formula</h4>\n",
    "$$\n",
    "output = \\{ {0 if w*x+b<=0\\over 1 if w*x+b>0} \n",
    "$$\n",
    "w = weights\n",
    "b = bias\n",
    "x = inputs"
   ]
  },
  {
   "cell_type": "markdown",
   "metadata": {},
   "source": [
    "#### <a href=\"http://neuralnetworksanddeeplearning.com/chap1.html#sigmoid_neurons\">Sigmoid Neurons: </a>\n",
    "These artificial neurons are similar to perceptrons with one crucial difference.  Rather than a binary output(0,1), the sigmoid neuron outputs any value between 0 and 1."
   ]
  },
  {
   "cell_type": "markdown",
   "metadata": {},
   "source": []
  },
  {
   "cell_type": "code",
   "execution_count": null,
   "metadata": {
    "collapsed": true
   },
   "outputs": [],
   "source": []
  }
 ],
 "metadata": {
  "anaconda-cloud": {},
  "kernelspec": {
   "display_name": "Python [default]",
   "language": "python",
   "name": "python3"
  },
  "language_info": {
   "codemirror_mode": {
    "name": "ipython",
    "version": 3
   },
   "file_extension": ".py",
   "mimetype": "text/x-python",
   "name": "python",
   "nbconvert_exporter": "python",
   "pygments_lexer": "ipython3",
   "version": "3.5.2"
  }
 },
 "nbformat": 4,
 "nbformat_minor": 1
}
